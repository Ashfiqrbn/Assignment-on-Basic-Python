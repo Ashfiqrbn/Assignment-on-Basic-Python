{
  "nbformat": 4,
  "nbformat_minor": 0,
  "metadata": {
    "colab": {
      "provenance": [],
      "authorship_tag": "ABX9TyMio4W4gq5BPMGgWKsrQIbE",
      "include_colab_link": true
    },
    "kernelspec": {
      "name": "python3",
      "display_name": "Python 3"
    },
    "language_info": {
      "name": "python"
    }
  },
  "cells": [
    {
      "cell_type": "markdown",
      "metadata": {
        "id": "view-in-github",
        "colab_type": "text"
      },
      "source": [
        "<a href=\"https://colab.research.google.com/github/Ashfiqrbn/Assignment-on-Basic-Python/blob/main/Ashfiq1.ipynb\" target=\"_parent\"><img src=\"https://colab.research.google.com/assets/colab-badge.svg\" alt=\"Open In Colab\"/></a>"
      ]
    },
    {
      "cell_type": "markdown",
      "source": [
        "**ASSIGNMENT 03**\n",
        "  **NAME:** Md. Ashfiqul Islam\n",
        "  **ID:**20229015\n"
      ],
      "metadata": {
        "id": "yEIeulDMmT8-"
      }
    },
    {
      "cell_type": "code",
      "execution_count": 2,
      "metadata": {
        "id": "CgebHZqFgBVI"
      },
      "outputs": [],
      "source": [
        "#importing the libraries\n",
        "import pandas as pd\n",
        "import numpy as np\n",
        "import matplotlib.pyplot as plt\n",
        "import seaborn as sns"
      ]
    },
    {
      "cell_type": "markdown",
      "source": [
        "Problem 01: write a python program to count the number of characters(character frequency) in a string. "
      ],
      "metadata": {
        "id": "NQhWh9vxtlky"
      }
    },
    {
      "cell_type": "code",
      "source": [
        "def count_chars(string):\n",
        "    # Creating an empty dictionary to store character frequencies\n",
        "    char_frequency = {}\n",
        "\n",
        "    # Iterating over each character in the string\n",
        "    for char in string:\n",
        "        # If the character is already in the dictionary, increment its count\n",
        "        if char in char_frequency:\n",
        "            char_frequency[char] += 1\n",
        "        # If the character is not in the dictionary, add it with a count of 1\n",
        "        else:\n",
        "            char_frequency[char] = 1\n",
        "\n",
        "    # Return the character frequencies as a dictionary\n",
        "    return char_frequency\n",
        "\n",
        "# taking a string\n",
        "string = input(\"Enter a string: \")\n",
        "\n",
        "# Calling the count_chars() function and printing the result\n",
        "result = count_chars(string)\n",
        "print(result)\n",
        "\n",
        "\n",
        "\n",
        "\n",
        "\n"
      ],
      "metadata": {
        "colab": {
          "base_uri": "https://localhost:8080/"
        },
        "id": "XY2_v4cEo3rz",
        "outputId": "051ec2fb-1476-4bb8-ae94-e7735fb9fbde"
      },
      "execution_count": 13,
      "outputs": [
        {
          "output_type": "stream",
          "name": "stdout",
          "text": [
            "Enter a string: google.com\n",
            "{'g': 2, 'o': 3, 'l': 1, 'e': 1, '.': 1, 'c': 1, 'm': 1}\n"
          ]
        }
      ]
    },
    {
      "cell_type": "markdown",
      "source": [
        "Problem 02: Write a python program to check if a given key already exists in a dictionary."
      ],
      "metadata": {
        "id": "CzU0F_vNxRGL"
      }
    },
    {
      "cell_type": "code",
      "source": [
        "def check_key(dictionary, key):\n",
        "    \"\"\"\n",
        "    This function will take a dictionary and a key as input and checks if\n",
        "    the key already exists in the dictionary. It returns True if the\n",
        "    key exists and False otherwise.\n",
        "    \"\"\"\n",
        "    # Check if the key exists in the dictionary\n",
        "    if key in dictionary:\n",
        "        return True\n",
        "    else:\n",
        "        return False\n",
        "\n",
        "#sample dictionary\n",
        "my_dict = {\"name\": \"Ashfiq\", \"age\": 29, \"city\": \"Dhaka\", \"salary\": 000, \"weight\": \"61kg\"}\n",
        "\n",
        "# taking a key\n",
        "key = input(\"Enter a key: \")\n",
        "\n",
        "# Calling the check_key() function and printing the result\n",
        "result = check_key(my_dict, key)\n",
        "print(result)"
      ],
      "metadata": {
        "colab": {
          "base_uri": "https://localhost:8080/"
        },
        "id": "6J2xXKXTvRvv",
        "outputId": "8fc44b4c-2030-4480-bae3-de348a6a9eeb"
      },
      "execution_count": 14,
      "outputs": [
        {
          "output_type": "stream",
          "name": "stdout",
          "text": [
            "Enter a key: height\n",
            "False\n"
          ]
        }
      ]
    },
    {
      "cell_type": "markdown",
      "source": [
        "Problem 03: Write a python program that accepts a sequence of comma separated numbers from the user and generate a list and a tuple of those numbers."
      ],
      "metadata": {
        "id": "GuSwTgjc0fi5"
      }
    },
    {
      "cell_type": "code",
      "source": [
        "def create_list_and_tuple(numbers):\n",
        "    \"\"\"\n",
        "    This function will take a string of comma-separated numbers as input\n",
        "    and returns a list and a tuple of those numbers.\n",
        "    \"\"\"\n",
        "    # Splitting the string into a list of strings\n",
        "    number_strings = numbers.split(\",\")\n",
        "\n",
        "    # Converting the strings to integers and create a list and a tuple\n",
        "    number_list = [num for num in number_strings]\n",
        "    number_tuple = tuple(number_list)\n",
        "\n",
        "    # Returning the list and tuple\n",
        "    return number_list, number_tuple\n",
        "\n",
        "# taking a sequence of comma-separated numbers\n",
        "number_string = input(\"Enter a sequence of comma-separated numbers: \")\n",
        "\n",
        "# Calling the create_list_and_tuple() function and printing the result\n",
        "result_list, result_tuple = create_list_and_tuple(number_string)\n",
        "print(\"List:\", result_list)\n",
        "print(\"Tuple:\", result_tuple)"
      ],
      "metadata": {
        "colab": {
          "base_uri": "https://localhost:8080/"
        },
        "id": "hUqEYAopy2sp",
        "outputId": "63e916d9-84e5-4fb0-b08e-a77ae252770f"
      },
      "execution_count": 35,
      "outputs": [
        {
          "output_type": "stream",
          "name": "stdout",
          "text": [
            "Enter a sequence of comma-separated numbers: 1,5,7,23\n",
            "List: ['1', '5', '7', '23']\n",
            "Tuple: ('1', '5', '7', '23')\n"
          ]
        }
      ]
    },
    {
      "cell_type": "markdown",
      "source": [
        "Problem 04: Write a python program to calculate the number of days between two dates."
      ],
      "metadata": {
        "id": "T1SIfHJJ61fA"
      }
    },
    {
      "cell_type": "code",
      "source": [
        "from datetime import date\n",
        "\n",
        "def days_between(start_date, end_date):\n",
        "    \"\"\"\n",
        "    This function will take two date objects as input and returns the number of\n",
        "    days between them (inclusive).\n",
        "    \"\"\"\n",
        "    delta = end_date - start_date\n",
        "    return delta.days \n",
        "\n",
        "# entering the start and end dates\n",
        "start_date_str = input(\"Enter the start date (YYYY-MM-DD): \")\n",
        "end_date_str = input(\"Enter the end date (YYYY-MM-DD): \")\n",
        "\n",
        "# Converting the input strings to date objects\n",
        "start_date = date.fromisoformat(start_date_str)\n",
        "end_date = date.fromisoformat(end_date_str)\n",
        "\n",
        "# Calling the days_between() function and printing the result\n",
        "result = days_between(start_date, end_date)\n",
        "print(\"Number of days between\", start_date_str, \"and\", end_date_str, \"is\", result)"
      ],
      "metadata": {
        "colab": {
          "base_uri": "https://localhost:8080/"
        },
        "id": "mlTX_HYA5RSo",
        "outputId": "687ed49f-2d8a-4be8-f069-3fdafa7f822c"
      },
      "execution_count": 26,
      "outputs": [
        {
          "output_type": "stream",
          "name": "stdout",
          "text": [
            "Enter the start date (YYYY-MM-DD): 2014-07-02\n",
            "Enter the end date (YYYY-MM-DD): 2014-07-11\n",
            "Number of days between 2014-07-02 and 2014-07-11 is 9\n"
          ]
        }
      ]
    },
    {
      "cell_type": "markdown",
      "source": [
        "Problem 05: Write a python program to solve (x+y)*(x+y);where test data x=4,y=3."
      ],
      "metadata": {
        "id": "cR3KsMd79sSC"
      }
    },
    {
      "cell_type": "code",
      "source": [
        "def square_sum(x, y):\n",
        "    \"\"\"\n",
        "    This function will take in two numbers, x and y, and returns the square of their sum.\n",
        "    \"\"\"\n",
        "    return (x + y) ** 2\n",
        "\n",
        "# Testing the function with x=4 and y=3\n",
        "x = 4\n",
        "y = 3\n",
        "result = square_sum(x, y)\n",
        "print(f\"The square of ({x}+{y}) is: {result}\")"
      ],
      "metadata": {
        "colab": {
          "base_uri": "https://localhost:8080/"
        },
        "id": "SiXJmIF09bOG",
        "outputId": "3b389370-df30-4f4a-cf5e-c51a01438307"
      },
      "execution_count": 27,
      "outputs": [
        {
          "output_type": "stream",
          "name": "stdout",
          "text": [
            "The square of (4+3) is: 49\n"
          ]
        }
      ]
    },
    {
      "cell_type": "markdown",
      "source": [
        "Problem 06: Write a python program to compute the future value of a specified principal amount, rate of interest, and number of years."
      ],
      "metadata": {
        "id": "bv__qWoFGypN"
      }
    },
    {
      "cell_type": "code",
      "source": [
        "def calculate_future_value(amt, int, years):\n",
        "    \"\"\"\n",
        "    This function will take three parameters, amt, int, and years, and returns the future value of the principal amount\n",
        "    after the specified number of years at the given rate of interest.\n",
        "    \"\"\"\n",
        "    future_value = amt * (1 + int/100) ** years\n",
        "    return future_value\n",
        "\n",
        "# Taking input for principal, rate, and years\n",
        "amt = float(input(\"Enter the principal amount: \"))\n",
        "int_rate = float(input(\"Enter the rate of interest (in %): \"))\n",
        "years = int(input(\"Enter the number of years: \"))\n",
        "\n",
        "# Calling the function and storing the result in a variable\n",
        "result = calculate_future_value(amt, int_rate, years)\n",
        "\n",
        "# Displaying the result\n",
        "print(f\"The future value of ${amt:.2f} after {years} years at {int_rate}% interest is: ${result:.2f}\")"
      ],
      "metadata": {
        "colab": {
          "base_uri": "https://localhost:8080/"
        },
        "id": "X0-iZMBKGx89",
        "outputId": "c146d690-0e93-4775-fcbb-f4e4dd317a17"
      },
      "execution_count": 28,
      "outputs": [
        {
          "output_type": "stream",
          "name": "stdout",
          "text": [
            "Enter the principal amount: 10000\n",
            "Enter the rate of interest (in %): 3.5\n",
            "Enter the number of years: 7\n",
            "The future value of $10000.00 after 7 years at 3.5% interest is: $12722.79\n"
          ]
        }
      ]
    },
    {
      "cell_type": "markdown",
      "source": [
        "Problem 07: Write a python program that removes duplicate elements from a given array of number so that each element appears only once and returns the new length of the array."
      ],
      "metadata": {
        "id": "iWGwnYmSKwI-"
      }
    },
    {
      "cell_type": "code",
      "source": [
        "def remove_duplicates(arr):\n",
        "    \"\"\"\n",
        "    This function will take an array of numbers and removes duplicate elements from it so that each element appears only once.\n",
        "    It will return the new length of the array and also print the list of unique numbers.\n",
        "    \"\"\"\n",
        "    #removing duplicates and converting back to list\n",
        "    unique_arr = list(set(arr))\n",
        "    \n",
        "    # Printing the list of unique numbers\n",
        "    print(\"The list of unique numbers is:\", unique_arr)\n",
        "    \n",
        "    # Returning the length of the new array\n",
        "    return len(unique_arr)\n",
        "\n",
        "# Testing the function\n",
        "arr = [0,0,1,1,2,2,3,3,4,4,4]\n",
        "new_length = remove_duplicates(arr)\n",
        "print(f\"\\nThe new length of the array after removing duplicates is: {new_length}\")"
      ],
      "metadata": {
        "colab": {
          "base_uri": "https://localhost:8080/"
        },
        "id": "Is9GoGynKawc",
        "outputId": "9f53673c-43a5-4e3a-b516-22d6fd8a8e6c"
      },
      "execution_count": 32,
      "outputs": [
        {
          "output_type": "stream",
          "name": "stdout",
          "text": [
            "The list of unique numbers is: [0, 1, 2, 3, 4]\n",
            "\n",
            "The new length of the array after removing duplicates is: 5\n"
          ]
        }
      ]
    },
    {
      "cell_type": "markdown",
      "source": [
        "Problem 08: Write a python program to sort (ascending and descending) a dictionary by key value."
      ],
      "metadata": {
        "id": "83Vj4lreQgZz"
      }
    },
    {
      "cell_type": "code",
      "source": [
        "def sort_dict_by_key(dictionary, order='ascending'):\n",
        "    \"\"\"\n",
        "    This function will take a dictionary and sorts it by key value in ascending or descending order.\n",
        "    It will return the sorted dictionary.\n",
        "    \"\"\"\n",
        "    # Sorting the dictionary by key value\n",
        "    sorted_dict = dict(sorted(dictionary.items(), key=lambda x: x[0], reverse=(order=='descending')))\n",
        "    \n",
        "    # Returning the sorted dictionary\n",
        "    return sorted_dict\n",
        "\n",
        "# Testing the function\n",
        "unsorted_dict = {'Nike': 3, 'Adidas': 2, 'Puma': 1, 'Reebok': 4,'Asics':5}\n",
        "print(\"The unsorted dictionary is:\", unsorted_dict)\n",
        "\n",
        "# Sorting the dictionary in ascending order\n",
        "ascending_dict = sort_dict_by_key(unsorted_dict)\n",
        "print(\"\\nThe dictionary sorted in ascending order is:\", ascending_dict)\n",
        "\n",
        "# Sorting the dictionary in descending order\n",
        "descending_dict = sort_dict_by_key(unsorted_dict, order='descending')\n",
        "print(\"\\nThe dictionary sorted in descending order is:\", descending_dict)"
      ],
      "metadata": {
        "colab": {
          "base_uri": "https://localhost:8080/"
        },
        "id": "c35aWoRXQdpX",
        "outputId": "faf5761f-cec4-4e68-e533-8d45f388c7f4"
      },
      "execution_count": 36,
      "outputs": [
        {
          "output_type": "stream",
          "name": "stdout",
          "text": [
            "The unsorted dictionary is: {'Nike': 3, 'Adidas': 2, 'Puma': 1, 'Reebok': 4, 'Asics': 5}\n",
            "\n",
            "The dictionary sorted in ascending order is: {'Adidas': 2, 'Asics': 5, 'Nike': 3, 'Puma': 1, 'Reebok': 4}\n",
            "\n",
            "The dictionary sorted in descending order is: {'Reebok': 4, 'Puma': 1, 'Nike': 3, 'Asics': 5, 'Adidas': 2}\n"
          ]
        }
      ]
    },
    {
      "cell_type": "markdown",
      "source": [
        "Problem 09: Write a python program to add key to a dictionary. Go to the editor"
      ],
      "metadata": {
        "id": "K1CvCS4PU4mc"
      }
    },
    {
      "cell_type": "code",
      "source": [
        "def add_key_to_dict(dictionary, key, value):\n",
        "    \"\"\"\n",
        "    This function will take a dictionary, a key, and a value, and adds the key-value pair to the dictionary.\n",
        "    It will return the updated dictionary.\n",
        "    \"\"\"\n",
        "    # Adding the key-value pair to the dictionary\n",
        "    dictionary[key] = value\n",
        "    \n",
        "    # Returning the updated dictionary\n",
        "    return dictionary\n",
        "\n",
        "# Sample dictionary\n",
        "my_dict = {0: 10, 1: 20}\n",
        "print(\"The original dictionary is:\", my_dict)\n",
        "\n",
        "# Adding a new key-value pair to the dictionary\n",
        "updated_dict = add_key_to_dict(my_dict, 2, 30)\n",
        "print(\"\\nThe updated dictionary is:\", updated_dict)"
      ],
      "metadata": {
        "colab": {
          "base_uri": "https://localhost:8080/"
        },
        "id": "hMcaVXAwU4F5",
        "outputId": "5f49dc83-f0db-40de-b384-43e5ad7f87dd"
      },
      "execution_count": 37,
      "outputs": [
        {
          "output_type": "stream",
          "name": "stdout",
          "text": [
            "The original dictionary is: {0: 10, 1: 20}\n",
            "\n",
            "The updated dictionary is: {0: 10, 1: 20, 2: 30}\n"
          ]
        }
      ]
    },
    {
      "cell_type": "markdown",
      "source": [
        "Problem 10: Write a Pandas program to createw and display a DataFrame from a specified dictionary data which has the index labels."
      ],
      "metadata": {
        "id": "Duaydd6PYt27"
      }
    },
    {
      "cell_type": "code",
      "source": [
        "import pandas as pd\n",
        "import numpy as np\n",
        "\n",
        "def create_dataframe_with_custom_index(exam_data, labels):\n",
        "    \"\"\"\n",
        "    This function will take a dictionary containing exam data and a list of index labels and returns a Pandas DataFrame\n",
        "    with custom index labels.\n",
        "    \"\"\"\n",
        "    # Creating a DataFrame from the dictionary\n",
        "    df = pd.DataFrame(exam_data)\n",
        "    \n",
        "    # Setting the custom index labels\n",
        "    df.index = labels\n",
        "    \n",
        "    # Returning the DataFrame\n",
        "    return df\n",
        "\n",
        "# Sample dictionary data and list labels\n",
        "exam_data = {\n",
        "    'name': ['Arif', 'Asir', 'Arik', 'Anis', 'Anil', 'Ashish', 'Anahi', 'Alia', 'Alvin', 'Asim'],\n",
        "    'score': [12.5, 9, 16.5, np.nan, 9, 20, 14.5, np.nan, 8, 19],\n",
        "    'attempts': [1, 3, 2, 3, 2, 3, 1, 1, 2, 1],\n",
        "    'qualify': ['yes', 'no', 'yes', 'no', 'no', 'yes', 'yes', 'no', 'no', 'yes']\n",
        "}\n",
        "\n",
        "labels = ['a', 'b', 'c', 'd', 'e', 'f', 'g', 'h', 'i', 'j']\n",
        "\n",
        "# Creating the DataFrame with custom index labels\n",
        "df = create_dataframe_with_custom_index(exam_data, labels)\n",
        "\n",
        "# Displaying the DataFrame\n",
        "print(df)"
      ],
      "metadata": {
        "colab": {
          "base_uri": "https://localhost:8080/"
        },
        "id": "2jmUASSGcShE",
        "outputId": "1df2a5e8-aae8-4fd5-ccbd-e45a4b1267f6"
      },
      "execution_count": 39,
      "outputs": [
        {
          "output_type": "stream",
          "name": "stdout",
          "text": [
            "     name  score  attempts qualify\n",
            "a    Arif   12.5         1     yes\n",
            "b    Asir    9.0         3      no\n",
            "c    Arik   16.5         2     yes\n",
            "d    Anis    NaN         3      no\n",
            "e    Anil    9.0         2      no\n",
            "f  Ashish   20.0         3     yes\n",
            "g   Anahi   14.5         1     yes\n",
            "h    Alia    NaN         1      no\n",
            "i   Alvin    8.0         2      no\n",
            "j    Asim   19.0         1     yes\n"
          ]
        }
      ]
    }
  ]
}